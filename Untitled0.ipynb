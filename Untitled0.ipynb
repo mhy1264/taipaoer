{
  "nbformat": 4,
  "nbformat_minor": 0,
  "metadata": {
    "colab": {
      "provenance": [],
      "authorship_tag": "ABX9TyOAQPWQfOTOAvo2zAXbLnKE"
    },
    "kernelspec": {
      "name": "python3",
      "display_name": "Python 3"
    },
    "language_info": {
      "name": "python"
    }
  },
  "cells": [
    {
      "cell_type": "code",
      "execution_count": null,
      "metadata": {
        "id": "B24b-4sZi3d7"
      },
      "outputs": [],
      "source": []
    }
  ]
}