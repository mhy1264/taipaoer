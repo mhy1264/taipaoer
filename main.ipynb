{
  "cells": [
    {
      "cell_type": "markdown",
      "metadata": {
        "colab_type": "text",
        "id": "view-in-github"
      },
      "source": [
        "<a href=\"https://colab.research.google.com/github/mhy1264/taipower/blob/main/main.ipynb\" target=\"_parent\"><img src=\"https://colab.research.google.com/assets/colab-badge.svg\" alt=\"Open In Colab\"/></a>"
      ]
    },
    {
      "cell_type": "code",
      "execution_count": null,
      "metadata": {
        "colab": {
          "base_uri": "https://localhost:8080/"
        },
        "id": "irCMhRA_Feny",
        "outputId": "81092ef1-7dd1-4cb6-b423-621342bd05a4"
      },
      "outputs": [],
      "source": [
        "from google.colab import drive\n",
        "drive.mount('/content/drive')"
      ]
    },
    {
      "cell_type": "code",
      "execution_count": null,
      "metadata": {
        "colab": {
          "base_uri": "https://localhost:8080/"
        },
        "id": "B24b-4sZi3d7",
        "outputId": "8509eb90-8cbb-4fa0-9f96-27744e415ea6"
      },
      "outputs": [],
      "source": [
        "!pip install autoKeras\n",
        "!pip install scikit-learn"
      ]
    },
    {
      "cell_type": "code",
      "execution_count": 2,
      "metadata": {
        "colab": {
          "base_uri": "https://localhost:8080/"
        },
        "id": "C-S7--22-wb5",
        "outputId": "b1619449-4d1d-49ca-a9e6-19dfb56a2fd9"
      },
      "outputs": [
        {
          "name": "stdout",
          "output_type": "stream",
          "text": [
            "Using TensorFlow backend\n"
          ]
        },
        {
          "name": "stderr",
          "output_type": "stream",
          "text": [
            "2023-10-12 04:08:34.391549: I tensorflow/tsl/cuda/cudart_stub.cc:28] Could not find cuda drivers on your machine, GPU will not be used.\n",
            "2023-10-12 04:08:34.433701: I tensorflow/tsl/cuda/cudart_stub.cc:28] Could not find cuda drivers on your machine, GPU will not be used.\n",
            "2023-10-12 04:08:35.147476: W tensorflow/compiler/tf2tensorrt/utils/py_utils.cc:38] TF-TRT Warning: Could not find TensorRT\n"
          ]
        }
      ],
      "source": [
        "import autokeras as ak\n",
        "from sklearn.model_selection import train_test_split\n",
        "import pandas as pd\n",
        "import numpy as np\n",
        "import weather"
      ]
    },
    {
      "cell_type": "code",
      "execution_count": 24,
      "metadata": {},
      "outputs": [],
      "source": [
        "#显示所有列\n",
        "pd.set_option('display.max_columns', None)\n",
        "#显示所有行\n",
        "pd.set_option('display.max_rows', None)"
      ]
    },
    {
      "cell_type": "code",
      "execution_count": 3,
      "metadata": {},
      "outputs": [],
      "source": [
        "#显示所有列\n",
        "pd.set_option('display.max_columns', None)\n",
        "#显示所有行\n",
        "pd.set_option('display.max_rows', None)"
      ]
    },
    {
      "cell_type": "code",
      "execution_count": 3,
      "metadata": {},
      "outputs": [],
      "source": [
        "def get_obv_station(gen_station: str) -> str:\n",
        "    obv_station = pd.read_csv(\"./data/mini_dist2.csv\")\n",
        "    df = obv_station[obv_station['gen_station'].astype(str).str.contains(\"{}\".format(gen_station))]\n",
        "    return df['obv_station'].tolist()[0]"
      ]
    },
    {
      "cell_type": "code",
<<<<<<< HEAD
      "execution_count": 48,
=======
      "execution_count": 5,
>>>>>>> 9df6a22 (recover)
      "metadata": {
        "id": "TjuPRRm0_Uf0"
      },
      "outputs": [
        {
<<<<<<< HEAD
          "name": "stdout",
          "output_type": "stream",
          "text": [
            "金門金沙光電\n"
=======
          "ename": "ValueError",
          "evalue": "未找到站名 || 資訊取得錯誤",
          "output_type": "error",
          "traceback": [
            "\u001b[0;31m---------------------------------------------------------------------------\u001b[0m",
            "\u001b[0;31mKeyboardInterrupt\u001b[0m                         Traceback (most recent call last)",
            "File \u001b[0;32m~/taipower/weather.py:66\u001b[0m, in \u001b[0;36mget_month_data\u001b[0;34m(name, year, month)\u001b[0m\n\u001b[1;32m     65\u001b[0m df \u001b[39m=\u001b[39m pd\u001b[39m.\u001b[39mread_html(\u001b[39mstr\u001b[39m(table[\u001b[39m0\u001b[39m]))[\u001b[39m0\u001b[39m]\n\u001b[0;32m---> 66\u001b[0m df \u001b[39m=\u001b[39m seperate(df, year, month)\n\u001b[1;32m     67\u001b[0m \u001b[39mreturn\u001b[39;00m df\n",
            "File \u001b[0;32m~/taipower/weather.py:33\u001b[0m, in \u001b[0;36mseperate\u001b[0;34m(df, year, month)\u001b[0m\n\u001b[1;32m     32\u001b[0m \u001b[39mfor\u001b[39;00m i \u001b[39min\u001b[39;00m \u001b[39mrange\u001b[39m(df\u001b[39m.\u001b[39mshape[\u001b[39m0\u001b[39m]):\n\u001b[0;32m---> 33\u001b[0m     data \u001b[39m=\u001b[39m df\u001b[39m.\u001b[39;49miloc[i]\u001b[39m.\u001b[39mtolist()\n\u001b[1;32m     34\u001b[0m     data[\u001b[39m0\u001b[39m] \u001b[39m=\u001b[39m datetime\u001b[39m.\u001b[39mdate(\u001b[39mint\u001b[39m(year), \u001b[39mint\u001b[39m(month), \u001b[39mint\u001b[39m(data[\u001b[39m0\u001b[39m]))\n",
            "File \u001b[0;32m~/miniconda3/envs/autoML/lib/python3.8/site-packages/pandas/core/indexing.py:1103\u001b[0m, in \u001b[0;36m_LocationIndexer.__getitem__\u001b[0;34m(self, key)\u001b[0m\n\u001b[1;32m   1102\u001b[0m maybe_callable \u001b[39m=\u001b[39m com\u001b[39m.\u001b[39mapply_if_callable(key, \u001b[39mself\u001b[39m\u001b[39m.\u001b[39mobj)\n\u001b[0;32m-> 1103\u001b[0m \u001b[39mreturn\u001b[39;00m \u001b[39mself\u001b[39;49m\u001b[39m.\u001b[39;49m_getitem_axis(maybe_callable, axis\u001b[39m=\u001b[39;49maxis)\n",
            "File \u001b[0;32m~/miniconda3/envs/autoML/lib/python3.8/site-packages/pandas/core/indexing.py:1658\u001b[0m, in \u001b[0;36m_iLocIndexer._getitem_axis\u001b[0;34m(self, key, axis)\u001b[0m\n\u001b[1;32m   1656\u001b[0m \u001b[39mself\u001b[39m\u001b[39m.\u001b[39m_validate_integer(key, axis)\n\u001b[0;32m-> 1658\u001b[0m \u001b[39mreturn\u001b[39;00m \u001b[39mself\u001b[39;49m\u001b[39m.\u001b[39;49mobj\u001b[39m.\u001b[39;49m_ixs(key, axis\u001b[39m=\u001b[39;49maxis)\n",
            "File \u001b[0;32m~/miniconda3/envs/autoML/lib/python3.8/site-packages/pandas/core/frame.py:3652\u001b[0m, in \u001b[0;36mDataFrame._ixs\u001b[0;34m(self, i, axis)\u001b[0m\n\u001b[1;32m   3651\u001b[0m \u001b[39mif\u001b[39;00m axis \u001b[39m==\u001b[39m \u001b[39m0\u001b[39m:\n\u001b[0;32m-> 3652\u001b[0m     new_mgr \u001b[39m=\u001b[39m \u001b[39mself\u001b[39;49m\u001b[39m.\u001b[39;49m_mgr\u001b[39m.\u001b[39;49mfast_xs(i)\n\u001b[1;32m   3654\u001b[0m     \u001b[39m# if we are a copy, mark as such\u001b[39;00m\n",
            "File \u001b[0;32m~/miniconda3/envs/autoML/lib/python3.8/site-packages/pandas/core/internals/managers.py:1074\u001b[0m, in \u001b[0;36mBlockManager.fast_xs\u001b[0;34m(self, loc)\u001b[0m\n\u001b[1;32m   1071\u001b[0m \u001b[39mfor\u001b[39;00m blk \u001b[39min\u001b[39;00m \u001b[39mself\u001b[39m\u001b[39m.\u001b[39mblocks:\n\u001b[1;32m   1072\u001b[0m     \u001b[39m# Such assignment may incorrectly coerce NaT to None\u001b[39;00m\n\u001b[1;32m   1073\u001b[0m     \u001b[39m# result[blk.mgr_locs] = blk._slice((slice(None), loc))\u001b[39;00m\n\u001b[0;32m-> 1074\u001b[0m     \u001b[39mfor\u001b[39;00m i, rl \u001b[39min\u001b[39;00m \u001b[39menumerate\u001b[39m(blk\u001b[39m.\u001b[39mmgr_locs):\n\u001b[1;32m   1075\u001b[0m         result[rl] \u001b[39m=\u001b[39m blk\u001b[39m.\u001b[39miget((i, loc))\n",
            "\u001b[0;31mKeyboardInterrupt\u001b[0m: ",
            "\nDuring handling of the above exception, another exception occurred:\n",
            "\u001b[0;31mValueError\u001b[0m                                Traceback (most recent call last)",
            "\u001b[1;32m/home/yuli/taipower/main.ipynb 儲存格 7\u001b[0m line \u001b[0;36m9\n\u001b[1;32m      <a href='vscode-notebook-cell://ssh-remote%2B7b22686f73744e616d65223a223134302e3133382e362e3939222c2275736572223a2279756c69227d/home/yuli/taipower/main.ipynb#X12sdnNjb2RlLXJlbW90ZQ%3D%3D?line=5'>6</a>\u001b[0m df \u001b[39m=\u001b[39m solar_daily\u001b[39m.\u001b[39miloc[:, [row, \u001b[39m-\u001b[39m\u001b[39m1\u001b[39m]]\n\u001b[1;32m      <a href='vscode-notebook-cell://ssh-remote%2B7b22686f73744e616d65223a223134302e3133382e362e3939222c2275736572223a2279756c69227d/home/yuli/taipower/main.ipynb#X12sdnNjb2RlLXJlbW90ZQ%3D%3D?line=6'>7</a>\u001b[0m current_station \u001b[39m=\u001b[39m df\u001b[39m.\u001b[39mcolumns\u001b[39m.\u001b[39mtolist()[\u001b[39m0\u001b[39m]\n\u001b[0;32m----> <a href='vscode-notebook-cell://ssh-remote%2B7b22686f73744e616d65223a223134302e3133382e362e3939222c2275736572223a2279756c69227d/home/yuli/taipower/main.ipynb#X12sdnNjb2RlLXJlbW90ZQ%3D%3D?line=8'>9</a>\u001b[0m station_weather \u001b[39m=\u001b[39m weather\u001b[39m.\u001b[39;49mget_data(get_obv_station(current_station))\n\u001b[1;32m     <a href='vscode-notebook-cell://ssh-remote%2B7b22686f73744e616d65223a223134302e3133382e362e3939222c2275736572223a2279756c69227d/home/yuli/taipower/main.ipynb#X12sdnNjb2RlLXJlbW90ZQ%3D%3D?line=10'>11</a>\u001b[0m fileName \u001b[39m=\u001b[39m current_station\u001b[39m.\u001b[39mreplace(\u001b[39m\"\u001b[39m\u001b[39m/\u001b[39m\u001b[39m\"\u001b[39m,\u001b[39m\"\u001b[39m\u001b[39m\\\\\u001b[39;00m\u001b[39m\"\u001b[39m)\n\u001b[1;32m     <a href='vscode-notebook-cell://ssh-remote%2B7b22686f73744e616d65223a223134302e3133382e362e3939222c2275736572223a2279756c69227d/home/yuli/taipower/main.ipynb#X12sdnNjb2RlLXJlbW90ZQ%3D%3D?line=12'>13</a>\u001b[0m station_weather[\u001b[39m'\u001b[39m\u001b[39mdate\u001b[39m\u001b[39m'\u001b[39m] \u001b[39m=\u001b[39m station_weather[\u001b[39m'\u001b[39m\u001b[39mdate\u001b[39m\u001b[39m'\u001b[39m]\u001b[39m.\u001b[39mastype(\u001b[39mstr\u001b[39m)\n",
            "File \u001b[0;32m~/taipower/weather.py:85\u001b[0m, in \u001b[0;36mget_data\u001b[0;34m(station)\u001b[0m\n\u001b[1;32m     83\u001b[0m \u001b[39mfor\u001b[39;00m year \u001b[39min\u001b[39;00m \u001b[39mrange\u001b[39m(\u001b[39m2017\u001b[39m, \u001b[39m2024\u001b[39m):\n\u001b[1;32m     84\u001b[0m     \u001b[39mfor\u001b[39;00m month \u001b[39min\u001b[39;00m \u001b[39mrange\u001b[39m(\u001b[39m1\u001b[39m, \u001b[39m13\u001b[39m):\n\u001b[0;32m---> 85\u001b[0m         df \u001b[39m=\u001b[39m get_month_data(station, year, month)\n\u001b[1;32m     86\u001b[0m         temp \u001b[39m=\u001b[39m pd\u001b[39m.\u001b[39mconcat([temp, df])\n\u001b[1;32m     88\u001b[0m \u001b[39mfor\u001b[39;00m month \u001b[39min\u001b[39;00m \u001b[39mrange\u001b[39m(\u001b[39m1\u001b[39m, \u001b[39m7\u001b[39m):\n",
            "File \u001b[0;32m~/taipower/weather.py:69\u001b[0m, in \u001b[0;36mget_month_data\u001b[0;34m(name, year, month)\u001b[0m\n\u001b[1;32m     67\u001b[0m     \u001b[39mreturn\u001b[39;00m df\n\u001b[1;32m     68\u001b[0m \u001b[39mexcept\u001b[39;00m:\n\u001b[0;32m---> 69\u001b[0m     \u001b[39mraise\u001b[39;00m \u001b[39mValueError\u001b[39;00m(\u001b[39m\"\u001b[39m\u001b[39m未找到站名 || 資訊取得錯誤\u001b[39m\u001b[39m\"\u001b[39m)\n",
            "\u001b[0;31mValueError\u001b[0m: 未找到站名 || 資訊取得錯誤"
>>>>>>> 9df6a22 (recover)
          ]
        }
      ],
      "source": [
        "solar_daily = pd.read_csv(\"./data/solar_daily.csv\")\n",
        "station = pd.read_csv(\"./data/station.csv\")\n",
        "\n",
        "\n",
<<<<<<< HEAD
        "for row in range(1,solar_daily.shape[1]-2):\n",
        "    df = solar_daily.iloc[:, [row, -1]].head(31)\n",
        "    current_station = df.columns.tolist()[0]\n",
        "    \n",
        "    station_weather = weather.get_data(get_obv_station(current_station))\n",
        "    \n",
        "    fileName = current_station.replace(\"/\",\"\\\\\")\n",
        "\n",
        "    station_weather['date'] = station_weather['date'].astype(str)\n",
        "    df['date'] = df[\"date\"].astype(str)\n",
        "\n",
=======
        "for row in range(1,2):\n",
        "    df = solar_daily.iloc[:, [row, -1]]\n",
        "    current_station = df.columns.tolist()[0]\n",
        "\n",
        "    # station_weather = weather.get_data(get_obv_station(current_station))\n",
        "    station_weather = weather.get_month_data(get_obv_station(current_station),2017,1)\n",
        "\n",
        "    fileName = current_station.replace(\"/\",\"\\\\\")\n",
        "\n",
        "    station_weather['date'] = station_weather['date'].astype(str)\n",
        "    df['date'] = df[\"date\"].astype(str)\n",
        "\n",
>>>>>>> 9df6a22 (recover)
        "    df.to_csv(\"./df.csv\")\n",
        "    station_weather.to_csv(\"./sw.csv\")\n",
        "    merged_df = pd.merge(station_weather, df, on=\"date\", how=\"inner\")\n",
        "    print(current_station)\n",
        "    merged_df.rename(columns={current_station:\"degree\"}, inplace=True)\n",
        "\n",
        "    merged_df[\"station\"] = [current_station]*merged_df.shape[0]\n",
        "    merged_df.to_csv(\"temp{}.csv\".format(fileName))\n"
      ]
    }
  ],
  "metadata": {
    "colab": {
      "include_colab_link": true,
      "provenance": []
    },
    "kernelspec": {
      "display_name": "Python 3",
      "name": "python3"
    },
    "language_info": {
      "codemirror_mode": {
        "name": "ipython",
        "version": 3
      },
      "file_extension": ".py",
      "mimetype": "text/x-python",
      "name": "python",
      "nbconvert_exporter": "python",
      "pygments_lexer": "ipython3",
      "version": "3.8.18"
    }
  },
  "nbformat": 4,
  "nbformat_minor": 0
}
