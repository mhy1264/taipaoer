{
  "cells": [
    {
      "cell_type": "markdown",
      "metadata": {
        "colab_type": "text",
        "id": "view-in-github"
      },
      "source": [
        "<a href=\"https://colab.research.google.com/github/mhy1264/taipower/blob/main/main.ipynb\" target=\"_parent\"><img src=\"https://colab.research.google.com/assets/colab-badge.svg\" alt=\"Open In Colab\"/></a>"
      ]
    },
    {
      "cell_type": "code",
      "execution_count": null,
      "metadata": {
        "colab": {
          "base_uri": "https://localhost:8080/"
        },
        "id": "irCMhRA_Feny",
        "outputId": "81092ef1-7dd1-4cb6-b423-621342bd05a4"
      },
      "outputs": [],
      "source": [
        "from google.colab import drive\n",
        "drive.mount('/content/drive')"
      ]
    },
    {
      "cell_type": "code",
      "execution_count": null,
      "metadata": {
        "colab": {
          "base_uri": "https://localhost:8080/"
        },
        "id": "B24b-4sZi3d7",
        "outputId": "8509eb90-8cbb-4fa0-9f96-27744e415ea6"
      },
      "outputs": [],
      "source": [
        "!pip install autoKeras\n",
        "!pip install scikit-learn"
      ]
    },
    {
      "cell_type": "code",
      "execution_count": 1,
      "metadata": {
        "colab": {
          "base_uri": "https://localhost:8080/"
        },
        "id": "C-S7--22-wb5",
        "outputId": "b1619449-4d1d-49ca-a9e6-19dfb56a2fd9"
      },
      "outputs": [
        {
          "name": "stdout",
          "output_type": "stream",
          "text": [
            "Using TensorFlow backend\n"
          ]
        }
      ],
      "source": [
        "import autokeras as ak\n",
        "from sklearn.model_selection import train_test_split\n",
        "import pandas as pd\n",
        "import numpy as np\n",
        "import weather"
      ]
    },
    {
      "cell_type": "code",
      "execution_count": 2,
      "metadata": {},
      "outputs": [],
      "source": [
        "def get_obv_station(gen_station: str) -> str:\n",
        "    obv_station = pd.read_csv(\"./data/mini_dist2.csv\")\n",
        "    df = obv_station[obv_station['gen_station'].astype(str).str.contains(\"{}\".format(gen_station))]\n",
        "    return df['obv_station'].tolist()[0]"
      ]
    },
    {
      "cell_type": "code",
      "execution_count": 8,
      "metadata": {
        "id": "TjuPRRm0_Uf0"
      },
      "outputs": [
        {
          "name": "stdout",
          "output_type": "stream",
          "text": [
            "金門金沙光電\n",
            "https://e-service.cwb.gov.tw/HistoryDataQuery/MonthDataController.do?command=viewMain&station=C0W140&stname=%25E9%2587%2591%25E6%25B2%2599&datepicker=2017-01&altitude=21.0m#\n",
            "台中電廠光電\n",
            "https://e-service.cwb.gov.tw/HistoryDataQuery/MonthDataController.do?command=viewMain&station=C0FA40&stname=%25E8%2587%25BA%25E4%25B8%25AD%25E9%259B%25BB%25E5%25BB%25A0&datepicker=2017-01&altitude=25.0m#\n",
            "興達電廠光電\n",
            "https://e-service.cwb.gov.tw/HistoryDataQuery/MonthDataController.do?command=viewMain&station=C0V880&stname=%25E8%2588%2588%25E9%2581%2594&datepicker=2017-01&altitude=19.0m#\n",
            "嘉義民雄光電\n",
            "https://e-service.cwb.gov.tw/HistoryDataQuery/MonthDataController.do?command=viewMain&station=467480&stname=%25E5%2598%2589%25E7%25BE%25A9&datepicker=2017-01&altitude=26.9m#\n",
            "中部儲運中心光電\n",
            "https://e-service.cwb.gov.tw/HistoryDataQuery/MonthDataController.do?command=viewMain&station=C0F9L0&stname=%25E5%2590%258E%25E9%2587%258C&datepicker=2017-01&altitude=253.0m#\n",
            "東勢新伯公光電\n",
            "https://e-service.cwb.gov.tw/HistoryDataQuery/MonthDataController.do?command=viewMain&station=C1F911&stname=%25E6%2596%25B0%25E4%25BC%25AF%25E5%2585%25AC&datepicker=2017-01&altitude=417.0m#\n",
            "永安鹽灘地光電\n",
            "https://e-service.cwb.gov.tw/HistoryDataQuery/MonthDataController.do?command=viewMain&station=C0V620&stname=%25E6%25B0%25B8%25E5%25AE%2589&datepicker=2017-01&altitude=18.0m#\n",
            "路北E/S光電\n",
            "https://e-service.cwb.gov.tw/HistoryDataQuery/MonthDataController.do?command=viewMain&station=C0V620&stname=%25E6%25B0%25B8%25E5%25AE%2589&datepicker=2017-01&altitude=18.0m#\n",
            "澎湖尖山光電\n",
            "https://e-service.cwb.gov.tw/HistoryDataQuery/MonthDataController.do?command=viewMain&station=467350&stname=%25E6%25BE%258E%25E6%25B9%2596&datepicker=2017-01&altitude=10.7m#\n",
            "中大D/S光電\n",
            "https://e-service.cwb.gov.tw/HistoryDataQuery/MonthDataController.do?command=viewMain&station=C0C700&stname=%25E4%25B8%25AD%25E5%25A3%25A2&datepicker=2017-01&altitude=151.0m#\n",
            "卓蘭會館光電\n",
            "https://e-service.cwb.gov.tw/HistoryDataQuery/MonthDataController.do?command=viewMain&station=C0E791&stname=%25E5%258D%2593%25E8%2598%25AD&datepicker=2017-01&altitude=366.0m#\n",
            "大潭電廠光電\n",
            "https://e-service.cwb.gov.tw/HistoryDataQuery/MonthDataController.do?command=viewMain&station=467050&stname=%25E6%2596%25B0%25E5%25B1%258B&datepicker=2017-01&altitude=20.6m#\n",
            "大潭電廠GIS廠房光電\n",
            "https://e-service.cwb.gov.tw/HistoryDataQuery/MonthDataController.do?command=viewMain&station=467050&stname=%25E6%2596%25B0%25E5%25B1%258B&datepicker=2017-01&altitude=20.6m#\n",
            "澎湖七美光電\n",
            "https://e-service.cwb.gov.tw/HistoryDataQuery/MonthDataController.do?command=viewMain&station=C0W130&stname=%25E8%258A%25B1%25E5%25B6%25BC&datepicker=2017-01&altitude=18.0m#\n",
            "核三廠光電\n",
            "https://e-service.cwb.gov.tw/HistoryDataQuery/MonthDataController.do?command=viewMain&station=C0R880&stname=%25E5%25BE%258C%25E5%25A3%2581%25E6%25B9%2596&datepicker=2017-01&altitude=13.0m#\n",
            "后里E/S光電\n",
            "https://e-service.cwb.gov.tw/HistoryDataQuery/MonthDataController.do?command=viewMain&station=C0F9L0&stname=%25E5%2590%258E%25E9%2587%258C&datepicker=2017-01&altitude=253.0m#\n",
            "台中龍井光電\n",
            "https://e-service.cwb.gov.tw/HistoryDataQuery/MonthDataController.do?command=viewMain&station=C0FA40&stname=%25E8%2587%25BA%25E4%25B8%25AD%25E9%259B%25BB%25E5%25BB%25A0&datepicker=2017-01&altitude=25.0m#\n",
            "龍潭E/S光電\n",
            "https://e-service.cwb.gov.tw/HistoryDataQuery/MonthDataController.do?command=viewMain&station=C0D650&stname=%25E6%25B9%2596%25E5%258F%25A3&datepicker=2017-01&altitude=97.0m#\n",
            "竹工E/S光電\n",
            "https://e-service.cwb.gov.tw/HistoryDataQuery/MonthDataController.do?command=viewMain&station=C0D700&stname=%25E9%2597%259C%25E8%25A5%25BF&datepicker=2017-01&altitude=155.0m#\n",
            "中科E/S光電\n",
            "https://e-service.cwb.gov.tw/HistoryDataQuery/MonthDataController.do?command=viewMain&station=C0F9X0&stname=%25E5%25A4%25A7%25E9%259B%2585%2528%25E4%25B8%25AD%25E7%25A7%2591%25E5%259C%2592%25E5%258D%2580%2529&datepicker=2017-01&altitude=166.0m#\n",
            "彰林E/S光電\n",
            "https://e-service.cwb.gov.tw/HistoryDataQuery/MonthDataController.do?command=viewMain&station=C0G660&stname=%25E6%25BA%25AA%25E6%25B9%2596&datepicker=2017-01&altitude=27.0m#\n",
            "台南七股光電\n",
            "https://e-service.cwb.gov.tw/HistoryDataQuery/MonthDataController.do?command=viewMain&station=C0O950&stname=%25E5%25AE%2589%25E5%258D%2597&datepicker=2017-01&altitude=4.0m#\n",
            "高雄E/S光電\n",
            "https://e-service.cwb.gov.tw/HistoryDataQuery/MonthDataController.do?command=viewMain&station=C0V700&stname=%25E4%25B8%2589%25E6%25B0%2591&datepicker=2017-01&altitude=24.0m#\n",
            "燕巢倉庫光電\n",
            "https://e-service.cwb.gov.tw/HistoryDataQuery/MonthDataController.do?command=viewMain&station=C1V830&stname=%25E5%259C%258B%25E4%25B8%2589S383K&datepicker=2017-01&altitude=114.0m#\n",
            "北部儲運中心光電\n",
            "https://e-service.cwb.gov.tw/HistoryDataQuery/MonthDataController.do?command=viewMain&station=C0C630&stname=%25E5%25A4%25A7%25E6%25BA%25AA&datepicker=2017-01&altitude=209.0m#\n",
            "彰化彰濱光電\n",
            "https://e-service.cwb.gov.tw/HistoryDataQuery/MonthDataController.do?command=viewMain&station=C0G640&stname=%25E9%25B9%25BF%25E6%25B8%25AF&datepicker=2017-01&altitude=17.0m#\n",
            "台南鹽田光電\n",
            "https://e-service.cwb.gov.tw/HistoryDataQuery/MonthDataController.do?command=viewMain&station=C0N010&stname=%25E9%25AF%25A4%25E9%25AF%2593%25E5%259C%258B%25E5%25B0%258F&datepicker=2017-01&altitude=19.0m#\n",
            "南投大彎光電\n",
            "https://e-service.cwb.gov.tw/HistoryDataQuery/MonthDataController.do?command=viewMain&station=C0I360&stname=%25E6%25B0%25B4%25E9%2587%258C&datepicker=2017-01&altitude=300.0m#\n",
            "金門鵲山光電\n",
            "https://e-service.cwb.gov.tw/HistoryDataQuery/MonthDataController.do?command=viewMain&station=C0W140&stname=%25E9%2587%2591%25E6%25B2%2599&datepicker=2017-01&altitude=21.0m#\n",
            "金門塔山光電\n",
            "https://e-service.cwb.gov.tw/HistoryDataQuery/MonthDataController.do?command=viewMain&station=C0W150&stname=%25E9%2587%2591%25E5%25AF%25A7&datepicker=2017-01&altitude=42.0m#\n",
            "高雄保寧光電\n",
            "https://e-service.cwb.gov.tw/HistoryDataQuery/MonthDataController.do?command=viewMain&station=C0V620&stname=%25E6%25B0%25B8%25E5%25AE%2589&datepicker=2017-01&altitude=18.0m#\n",
            "馬祖珠山光電\n",
            "https://e-service.cwb.gov.tw/HistoryDataQuery/MonthDataController.do?command=viewMain&station=467990&stname=%25E9%25A6%25AC%25E7%25A5%2596&datepicker=2017-01&altitude=97.842m#\n",
            "蘭嶼貯存場光電\n",
            "https://e-service.cwb.gov.tw/HistoryDataQuery/MonthDataController.do?command=viewMain&station=467620&stname=%25E8%2598%25AD%25E5%25B6%25BC&datepicker=2017-01&altitude=324.0m#\n",
            "蘭嶼電廠光電\n",
            "https://e-service.cwb.gov.tw/HistoryDataQuery/MonthDataController.do?command=viewMain&station=467620&stname=%25E8%2598%25AD%25E5%25B6%25BC&datepicker=2017-01&altitude=324.0m#\n",
            "台中電廠建物光電\n",
            "error occur\n",
            "台中電廠GIS廠房光電\n",
            "error occur\n",
            "高雄E/S停車棚光電\n",
            "https://e-service.cwb.gov.tw/HistoryDataQuery/MonthDataController.do?command=viewMain&station=C0V700&stname=%25E4%25B8%2589%25E6%25B0%2591&datepicker=2017-01&altitude=24.0m#\n",
            "大湳淨水場光電\n",
            "https://e-service.cwb.gov.tw/HistoryDataQuery/MonthDataController.do?command=viewMain&station=C0C490&stname=%25E5%2585%25AB%25E5%25BE%25B7&datepicker=2017-01&altitude=157.0m#\n",
            "平鎮淨水場光電\n",
            "https://e-service.cwb.gov.tw/HistoryDataQuery/MonthDataController.do?command=viewMain&station=C0C650&stname=%25E5%25B9%25B3%25E9%258E%25AE&datepicker=2017-01&altitude=208.0m#\n",
            "東興淨水場光電\n",
            "https://e-service.cwb.gov.tw/HistoryDataQuery/MonthDataController.do?command=viewMain&station=C0E730&stname=%25E9%25A0%25AD%25E4%25BB%25BD&datepicker=2017-01&altitude=26.0m#\n",
            "龍潭淨水場光電\n",
            "https://e-service.cwb.gov.tw/HistoryDataQuery/MonthDataController.do?command=viewMain&station=C0C670&stname=%25E9%25BE%258D%25E6%25BD%25AD&datepicker=2017-01&altitude=250.0m#\n",
            "龜山加壓站光電\n",
            "error occur\n",
            "淡水配水場光電\n",
            "error occur\n",
            "鳳山水庫光電\n",
            "https://e-service.cwb.gov.tw/HistoryDataQuery/MonthDataController.do?command=viewMain&station=C0V450&stname=%25E9%25B3%25B3%25E6%25A3%25AE&datepicker=2017-01&altitude=51.0m#\n",
            "澎湖尖山小再光電\n",
            "error occur\n",
            "台南七股II光電\n",
            "https://e-service.cwb.gov.tw/HistoryDataQuery/MonthDataController.do?command=viewMain&station=C0O950&stname=%25E5%25AE%2589%25E5%258D%2597&datepicker=2017-01&altitude=4.0m#\n",
            "義竹工作站光電\n",
            "https://e-service.cwb.gov.tw/HistoryDataQuery/MonthDataController.do?command=viewMain&station=C0M520&stname=%25E6%259D%25B1%25E5%25BE%258C%25E5%25AF%25AE&datepicker=2017-01&altitude=15.0m#\n",
            "台南鹽田電氣室光電\n",
            "error occur\n"
          ]
        }
      ],
      "source": [
        "\n",
        "solar_daily = pd.read_csv(\"./data/solar_daily.csv\")\n",
        "station = pd.read_csv(\"./data/station.csv\")\n",
        "\n",
        "\n",
        "for row in range(1,solar_daily.shape[1]-2):\n",
        "    df = solar_daily.iloc[:, [row, -1]]\n",
        "    current_station = df.columns.tolist()[0]\n",
        "    print(\"{}\".format(current_station))\n",
        "    try:\n",
        "        obv_station = get_obv_station(current_station)\n",
        "        station_weather = weather.get_month_data(obv_station, 2017, 1)\n",
        "        merged_df = pd.concat([df, station_weather], axis=1, join=\"inner\")\n",
        "    except Exception :\n",
        "        print (\"error occur\")\n",
        "\n",
        "\n",
        "\n"
      ]
    }
  ],
  "metadata": {
    "colab": {
      "include_colab_link": true,
      "provenance": []
    },
    "kernelspec": {
      "display_name": "Python 3",
      "name": "python3"
    },
    "language_info": {
      "codemirror_mode": {
        "name": "ipython",
        "version": 3
      },
      "file_extension": ".py",
      "mimetype": "text/x-python",
      "name": "python",
      "nbconvert_exporter": "python",
      "pygments_lexer": "ipython3",
      "version": "3.8.18"
    }
  },
  "nbformat": 4,
  "nbformat_minor": 0
}
